{
  "nbformat": 4,
  "nbformat_minor": 0,
  "metadata": {
    "colab": {
      "name": "BSA-Cloud.ipynb",
      "provenance": []
    },
    "kernelspec": {
      "name": "python3",
      "display_name": "Python 3"
    },
    "language_info": {
      "name": "python"
    }
  },
  "cells": [
    {
      "cell_type": "markdown",
      "metadata": {
        "id": "i-QpMrQsuCf_"
      },
      "source": [
        "# **1st & 2n Iteration**\n"
      ]
    },
    {
      "cell_type": "code",
      "metadata": {
        "colab": {
          "base_uri": "https://localhost:8080/"
        },
        "id": "QoFY4CcgCVbz",
        "outputId": "238caee5-cb26-4789-e918-18241b862b70"
      },
      "source": [
        "import numpy as np\n",
        "import matplotlib.pyplot as plt\n",
        "from matplotlib import collections  as mc\n",
        "import pandas as pd \n",
        "import re\n",
        "import string\n",
        "import spacy\n",
        "\n",
        "from spacy.lang.fr.examples import sentences \n",
        "!python -m spacy download fr_core_news_sm\n",
        "import fr_core_news_sm\n"
      ],
      "execution_count": null,
      "outputs": [
        {
          "output_type": "stream",
          "text": [
            "Requirement already satisfied: fr_core_news_sm==2.2.5 from https://github.com/explosion/spacy-models/releases/download/fr_core_news_sm-2.2.5/fr_core_news_sm-2.2.5.tar.gz#egg=fr_core_news_sm==2.2.5 in /usr/local/lib/python3.7/dist-packages (2.2.5)\n",
            "Requirement already satisfied: spacy>=2.2.2 in /usr/local/lib/python3.7/dist-packages (from fr_core_news_sm==2.2.5) (2.2.4)\n",
            "Requirement already satisfied: tqdm<5.0.0,>=4.38.0 in /usr/local/lib/python3.7/dist-packages (from spacy>=2.2.2->fr_core_news_sm==2.2.5) (4.41.1)\n",
            "Requirement already satisfied: preshed<3.1.0,>=3.0.2 in /usr/local/lib/python3.7/dist-packages (from spacy>=2.2.2->fr_core_news_sm==2.2.5) (3.0.5)\n",
            "Requirement already satisfied: plac<1.2.0,>=0.9.6 in /usr/local/lib/python3.7/dist-packages (from spacy>=2.2.2->fr_core_news_sm==2.2.5) (1.1.3)\n",
            "Requirement already satisfied: murmurhash<1.1.0,>=0.28.0 in /usr/local/lib/python3.7/dist-packages (from spacy>=2.2.2->fr_core_news_sm==2.2.5) (1.0.5)\n",
            "Requirement already satisfied: wasabi<1.1.0,>=0.4.0 in /usr/local/lib/python3.7/dist-packages (from spacy>=2.2.2->fr_core_news_sm==2.2.5) (0.8.2)\n",
            "Requirement already satisfied: setuptools in /usr/local/lib/python3.7/dist-packages (from spacy>=2.2.2->fr_core_news_sm==2.2.5) (56.1.0)\n",
            "Requirement already satisfied: thinc==7.4.0 in /usr/local/lib/python3.7/dist-packages (from spacy>=2.2.2->fr_core_news_sm==2.2.5) (7.4.0)\n",
            "Requirement already satisfied: srsly<1.1.0,>=1.0.2 in /usr/local/lib/python3.7/dist-packages (from spacy>=2.2.2->fr_core_news_sm==2.2.5) (1.0.5)\n",
            "Requirement already satisfied: numpy>=1.15.0 in /usr/local/lib/python3.7/dist-packages (from spacy>=2.2.2->fr_core_news_sm==2.2.5) (1.19.5)\n",
            "Requirement already satisfied: requests<3.0.0,>=2.13.0 in /usr/local/lib/python3.7/dist-packages (from spacy>=2.2.2->fr_core_news_sm==2.2.5) (2.23.0)\n",
            "Requirement already satisfied: blis<0.5.0,>=0.4.0 in /usr/local/lib/python3.7/dist-packages (from spacy>=2.2.2->fr_core_news_sm==2.2.5) (0.4.1)\n",
            "Requirement already satisfied: catalogue<1.1.0,>=0.0.7 in /usr/local/lib/python3.7/dist-packages (from spacy>=2.2.2->fr_core_news_sm==2.2.5) (1.0.0)\n",
            "Requirement already satisfied: cymem<2.1.0,>=2.0.2 in /usr/local/lib/python3.7/dist-packages (from spacy>=2.2.2->fr_core_news_sm==2.2.5) (2.0.5)\n",
            "Requirement already satisfied: idna<3,>=2.5 in /usr/local/lib/python3.7/dist-packages (from requests<3.0.0,>=2.13.0->spacy>=2.2.2->fr_core_news_sm==2.2.5) (2.10)\n",
            "Requirement already satisfied: urllib3!=1.25.0,!=1.25.1,<1.26,>=1.21.1 in /usr/local/lib/python3.7/dist-packages (from requests<3.0.0,>=2.13.0->spacy>=2.2.2->fr_core_news_sm==2.2.5) (1.24.3)\n",
            "Requirement already satisfied: certifi>=2017.4.17 in /usr/local/lib/python3.7/dist-packages (from requests<3.0.0,>=2.13.0->spacy>=2.2.2->fr_core_news_sm==2.2.5) (2020.12.5)\n",
            "Requirement already satisfied: chardet<4,>=3.0.2 in /usr/local/lib/python3.7/dist-packages (from requests<3.0.0,>=2.13.0->spacy>=2.2.2->fr_core_news_sm==2.2.5) (3.0.4)\n",
            "Requirement already satisfied: importlib-metadata>=0.20; python_version < \"3.8\" in /usr/local/lib/python3.7/dist-packages (from catalogue<1.1.0,>=0.0.7->spacy>=2.2.2->fr_core_news_sm==2.2.5) (4.0.1)\n",
            "Requirement already satisfied: typing-extensions>=3.6.4; python_version < \"3.8\" in /usr/local/lib/python3.7/dist-packages (from importlib-metadata>=0.20; python_version < \"3.8\"->catalogue<1.1.0,>=0.0.7->spacy>=2.2.2->fr_core_news_sm==2.2.5) (3.7.4.3)\n",
            "Requirement already satisfied: zipp>=0.5 in /usr/local/lib/python3.7/dist-packages (from importlib-metadata>=0.20; python_version < \"3.8\"->catalogue<1.1.0,>=0.0.7->spacy>=2.2.2->fr_core_news_sm==2.2.5) (3.4.1)\n",
            "\u001b[38;5;2m✔ Download and installation successful\u001b[0m\n",
            "You can now load the model via spacy.load('fr_core_news_sm')\n"
          ],
          "name": "stdout"
        }
      ]
    },
    {
      "cell_type": "code",
      "metadata": {
        "id": "eJOmyEYkUKw7"
      },
      "source": [
        "df= pd.read_csv(\"https://raw.githubusercontent.com/ahusejn1/TeamApple_Big_Scale_Analytics/main/Data.csv\")\n",
        "df\n",
        "df_3= pd.read_csv(\"https://raw.githubusercontent.com/ahusejn1/TeamApple_Big_Scale_Analytics/main/Data/aicrowd/train.csv\")\n",
        "df_3\n",
        "df_4 = df_3"
      ],
      "execution_count": null,
      "outputs": []
    },
    {
      "cell_type": "code",
      "metadata": {
        "id": "QuN75zSXIBmc"
      },
      "source": [
        "df['Text'] = df['Text'].str.replace('%20',' ')\n",
        "df_3['sentence'] = df_3['sentence'].str.replace('%20',' ')"
      ],
      "execution_count": null,
      "outputs": []
    },
    {
      "cell_type": "code",
      "metadata": {
        "colab": {
          "base_uri": "https://localhost:8080/"
        },
        "id": "Mxh1L0B6UZgj",
        "outputId": "7b70ba79-c60f-409c-cbff-bad77a03afcc"
      },
      "source": [
        "print(df)"
      ],
      "execution_count": null,
      "outputs": [
        {
          "output_type": "stream",
          "text": [
            "                                                   Text Difficulty\n",
            "0                                  Franck est français.         A1\n",
            "1                                        Il est employé         A1\n",
            "2     Il habite en Italie avec sa femme et ses enfants.         A1\n",
            "3                                   Il travaille à Rome         A1\n",
            "4                           Il parle italien et anglais         A1\n",
            "...                                                 ...        ...\n",
            "1093  Si la connaissance est convoquée une troisième...         C2\n",
            "1094  « Parce que les révisions aident à faire retro...         C2\n",
            "1095  Un enfant peut avoir parfois l’impression d’av...         C2\n",
            "1096  Un simple indice donné durant les vacances va ...         C2\n",
            "1097  Revue une fois, elle sera cette fois plus faci...         C1\n",
            "\n",
            "[1098 rows x 2 columns]\n"
          ],
          "name": "stdout"
        }
      ]
    },
    {
      "cell_type": "code",
      "metadata": {
        "id": "5mrV_vDnJmFw"
      },
      "source": [
        "def cleaning(text):\n",
        "    text = str(text).lower()\n",
        "    url = re.compile(r'https?://\\S+|www\\.\\S+')\n",
        "    return url.sub(r'',text)\n",
        "  \n",
        "\n",
        "df['Text']=df['Text'].apply(lambda x : cleaning(x))\n",
        "df_3['sentence']=df_3['sentence'].apply(lambda x : cleaning(x))"
      ],
      "execution_count": null,
      "outputs": []
    },
    {
      "cell_type": "code",
      "metadata": {
        "colab": {
          "base_uri": "https://localhost:8080/"
        },
        "id": "gkqfLHA8USq8",
        "outputId": "73f17156-14cc-43f8-894a-703adf13c760"
      },
      "source": [
        "print(df)"
      ],
      "execution_count": null,
      "outputs": [
        {
          "output_type": "stream",
          "text": [
            "                                                   Text Difficulty\n",
            "0                                  franck est français.         A1\n",
            "1                                        il est employé         A1\n",
            "2     il habite en italie avec sa femme et ses enfants.         A1\n",
            "3                                   il travaille à rome         A1\n",
            "4                           il parle italien et anglais         A1\n",
            "...                                                 ...        ...\n",
            "1093  si la connaissance est convoquée une troisième...         C2\n",
            "1094  « parce que les révisions aident à faire retro...         C2\n",
            "1095  un enfant peut avoir parfois l’impression d’av...         C2\n",
            "1096  un simple indice donné durant les vacances va ...         C2\n",
            "1097  revue une fois, elle sera cette fois plus faci...         C1\n",
            "\n",
            "[1098 rows x 2 columns]\n"
          ],
          "name": "stdout"
        }
      ]
    },
    {
      "cell_type": "code",
      "metadata": {
        "colab": {
          "base_uri": "https://localhost:8080/"
        },
        "id": "vqQqN2i9JuZP",
        "outputId": "02204f75-edc5-4225-de79-178339b89ce6"
      },
      "source": [
        "sp = fr_core_news_sm.load()\n",
        "punctuations = string.punctuation\n",
        "numbers = \"0123456789\"\n",
        "\n",
        "def spacy_tokenizer(sentence):\n",
        "    mytokens = sp(sentence)\n",
        "    mytokens = [ word.lemma_.lower().strip() if word.lemma_ != \"-PRON-\" else word.lower_ for word in mytokens ]\n",
        "    mytokens = [ word for word in mytokens if word not in punctuations and not word.isnumeric()]\n",
        "\n",
        "\n",
        "    return mytokens\n",
        "\n",
        "print(spacy_tokenizer(df['Text'].iloc[0])),\n",
        "print(spacy_tokenizer(df_3['sentence'].iloc[0]))"
      ],
      "execution_count": null,
      "outputs": [
        {
          "output_type": "stream",
          "text": [
            "['franck', 'être', 'français']\n",
            "['ce', 'être', 'pour', 'quand']\n"
          ],
          "name": "stdout"
        }
      ]
    },
    {
      "cell_type": "code",
      "metadata": {
        "id": "spZ-QFArKMVB",
        "colab": {
          "base_uri": "https://localhost:8080/"
        },
        "outputId": "6e8edaeb-fa9d-493a-bacc-1dca8e6f64df"
      },
      "source": [
        "df.Text = df['Text'].str.normalize('NFKD').str.encode('ascii', errors='ignore').str.decode('utf-8')\n",
        "df_3.Text = df_3['sentence'].str.normalize('NFKD').str.encode('ascii', errors='ignore').str.decode('utf-8')"
      ],
      "execution_count": null,
      "outputs": [
        {
          "output_type": "stream",
          "text": [
            "/usr/local/lib/python3.7/dist-packages/ipykernel_launcher.py:2: UserWarning: Pandas doesn't allow columns to be created via a new attribute name - see https://pandas.pydata.org/pandas-docs/stable/indexing.html#attribute-access\n",
            "  \n"
          ],
          "name": "stderr"
        }
      ]
    },
    {
      "cell_type": "code",
      "metadata": {
        "id": "ZoYud2zBXeye"
      },
      "source": [
        "new_df = pd.DataFrame(df)\n",
        "new_df.to_csv('df.csv' , index = False)"
      ],
      "execution_count": null,
      "outputs": []
    },
    {
      "cell_type": "code",
      "metadata": {
        "id": "QHuimtc5Tw9b"
      },
      "source": [
        "new_df_3 = pd.DataFrame(df_3)\n",
        "new_df_3.to_csv('df_3.csv' , index = False)"
      ],
      "execution_count": null,
      "outputs": []
    },
    {
      "cell_type": "markdown",
      "metadata": {
        "id": "KcbenKorgmbr"
      },
      "source": [
        "# **3rd Iteration**"
      ]
    },
    {
      "cell_type": "code",
      "metadata": {
        "colab": {
          "base_uri": "https://localhost:8080/"
        },
        "id": "LaALu7v_XC-1",
        "outputId": "b611dd91-6823-4487-ff08-1d2b84fc27ea"
      },
      "source": [
        "from spacy.lang.fr.examples import sentences \n",
        "!python -m spacy download fr_core_news_md\n",
        "import fr_core_news_md"
      ],
      "execution_count": null,
      "outputs": [
        {
          "output_type": "stream",
          "text": [
            "Requirement already satisfied: fr_core_news_md==2.2.5 from https://github.com/explosion/spacy-models/releases/download/fr_core_news_md-2.2.5/fr_core_news_md-2.2.5.tar.gz#egg=fr_core_news_md==2.2.5 in /usr/local/lib/python3.7/dist-packages (2.2.5)\n",
            "Requirement already satisfied: spacy>=2.2.2 in /usr/local/lib/python3.7/dist-packages (from fr_core_news_md==2.2.5) (2.2.4)\n",
            "Requirement already satisfied: thinc==7.4.0 in /usr/local/lib/python3.7/dist-packages (from spacy>=2.2.2->fr_core_news_md==2.2.5) (7.4.0)\n",
            "Requirement already satisfied: plac<1.2.0,>=0.9.6 in /usr/local/lib/python3.7/dist-packages (from spacy>=2.2.2->fr_core_news_md==2.2.5) (1.1.3)\n",
            "Requirement already satisfied: numpy>=1.15.0 in /usr/local/lib/python3.7/dist-packages (from spacy>=2.2.2->fr_core_news_md==2.2.5) (1.19.5)\n",
            "Requirement already satisfied: blis<0.5.0,>=0.4.0 in /usr/local/lib/python3.7/dist-packages (from spacy>=2.2.2->fr_core_news_md==2.2.5) (0.4.1)\n",
            "Requirement already satisfied: setuptools in /usr/local/lib/python3.7/dist-packages (from spacy>=2.2.2->fr_core_news_md==2.2.5) (56.1.0)\n",
            "Requirement already satisfied: tqdm<5.0.0,>=4.38.0 in /usr/local/lib/python3.7/dist-packages (from spacy>=2.2.2->fr_core_news_md==2.2.5) (4.41.1)\n",
            "Requirement already satisfied: murmurhash<1.1.0,>=0.28.0 in /usr/local/lib/python3.7/dist-packages (from spacy>=2.2.2->fr_core_news_md==2.2.5) (1.0.5)\n",
            "Requirement already satisfied: catalogue<1.1.0,>=0.0.7 in /usr/local/lib/python3.7/dist-packages (from spacy>=2.2.2->fr_core_news_md==2.2.5) (1.0.0)\n",
            "Requirement already satisfied: requests<3.0.0,>=2.13.0 in /usr/local/lib/python3.7/dist-packages (from spacy>=2.2.2->fr_core_news_md==2.2.5) (2.23.0)\n",
            "Requirement already satisfied: wasabi<1.1.0,>=0.4.0 in /usr/local/lib/python3.7/dist-packages (from spacy>=2.2.2->fr_core_news_md==2.2.5) (0.8.2)\n",
            "Requirement already satisfied: cymem<2.1.0,>=2.0.2 in /usr/local/lib/python3.7/dist-packages (from spacy>=2.2.2->fr_core_news_md==2.2.5) (2.0.5)\n",
            "Requirement already satisfied: preshed<3.1.0,>=3.0.2 in /usr/local/lib/python3.7/dist-packages (from spacy>=2.2.2->fr_core_news_md==2.2.5) (3.0.5)\n",
            "Requirement already satisfied: srsly<1.1.0,>=1.0.2 in /usr/local/lib/python3.7/dist-packages (from spacy>=2.2.2->fr_core_news_md==2.2.5) (1.0.5)\n",
            "Requirement already satisfied: importlib-metadata>=0.20; python_version < \"3.8\" in /usr/local/lib/python3.7/dist-packages (from catalogue<1.1.0,>=0.0.7->spacy>=2.2.2->fr_core_news_md==2.2.5) (4.0.1)\n",
            "Requirement already satisfied: urllib3!=1.25.0,!=1.25.1,<1.26,>=1.21.1 in /usr/local/lib/python3.7/dist-packages (from requests<3.0.0,>=2.13.0->spacy>=2.2.2->fr_core_news_md==2.2.5) (1.24.3)\n",
            "Requirement already satisfied: chardet<4,>=3.0.2 in /usr/local/lib/python3.7/dist-packages (from requests<3.0.0,>=2.13.0->spacy>=2.2.2->fr_core_news_md==2.2.5) (3.0.4)\n",
            "Requirement already satisfied: certifi>=2017.4.17 in /usr/local/lib/python3.7/dist-packages (from requests<3.0.0,>=2.13.0->spacy>=2.2.2->fr_core_news_md==2.2.5) (2020.12.5)\n",
            "Requirement already satisfied: idna<3,>=2.5 in /usr/local/lib/python3.7/dist-packages (from requests<3.0.0,>=2.13.0->spacy>=2.2.2->fr_core_news_md==2.2.5) (2.10)\n",
            "Requirement already satisfied: zipp>=0.5 in /usr/local/lib/python3.7/dist-packages (from importlib-metadata>=0.20; python_version < \"3.8\"->catalogue<1.1.0,>=0.0.7->spacy>=2.2.2->fr_core_news_md==2.2.5) (3.4.1)\n",
            "Requirement already satisfied: typing-extensions>=3.6.4; python_version < \"3.8\" in /usr/local/lib/python3.7/dist-packages (from importlib-metadata>=0.20; python_version < \"3.8\"->catalogue<1.1.0,>=0.0.7->spacy>=2.2.2->fr_core_news_md==2.2.5) (3.7.4.3)\n",
            "\u001b[38;5;2m✔ Download and installation successful\u001b[0m\n",
            "You can now load the model via spacy.load('fr_core_news_md')\n"
          ],
          "name": "stdout"
        }
      ]
    },
    {
      "cell_type": "code",
      "metadata": {
        "id": "EXB71RqxSNrj"
      },
      "source": [
        "df_4= pd.read_csv(\"https://raw.githubusercontent.com/ahusejn1/TeamApple_Big_Scale_Analytics/main/Data/aicrowd/train.csv\")\n"
      ],
      "execution_count": null,
      "outputs": []
    },
    {
      "cell_type": "code",
      "metadata": {
        "id": "4MqAt3ECWgIA"
      },
      "source": [
        "df_4.sentence = df_4['sentence'].str.findall('\\w{2,}').str.join(' ')"
      ],
      "execution_count": null,
      "outputs": []
    },
    {
      "cell_type": "code",
      "metadata": {
        "id": "w4bUwtYBWsDI"
      },
      "source": [
        "df_4[\"Word\"] = \"\""
      ],
      "execution_count": null,
      "outputs": []
    },
    {
      "cell_type": "code",
      "metadata": {
        "id": "18ZKcV4OWxjc"
      },
      "source": [
        "sp = fr_core_news_md.load()\n",
        "len = df_4.shape[0]\n",
        "ligne = 0\n",
        "while ligne<len:\n",
        "  text = str(df_4[\"sentence\"].iloc[ligne])\n",
        "  theDoc = sp(text)\n",
        "  token_list = []\n",
        "  new_List = []\n",
        "  for w in theDoc:\n",
        "    token_list.append(w.text)\n",
        "    if (w.pos_ == \"PROPN\") or (w.pos_ == \"NUM\"):\n",
        "      token_list.remove(w.text)\n",
        "  df_4[\"Word\"].iloc[ligne] = token_list\n",
        "  ligne += 1"
      ],
      "execution_count": null,
      "outputs": []
    },
    {
      "cell_type": "code",
      "metadata": {
        "id": "B_ckFL6iW9HC"
      },
      "source": [
        "line = 0 \n",
        "punct = string.punctuation\n",
        "len = df_4.shape[0]\n",
        "while line<len:\n",
        "  diffic = df_4.Word.iloc[line]\n",
        "  for i in diffic:\n",
        "    if (i in punct):\n",
        "      diffic.remove(i)\n",
        "  line += 1"
      ],
      "execution_count": null,
      "outputs": []
    },
    {
      "cell_type": "code",
      "metadata": {
        "id": "zqyOh58lXLdo"
      },
      "source": [
        "def listToString(s): \n",
        "    \n",
        "    # initialize an empty string\n",
        "    str1 = \" \" \n",
        "    \n",
        "    # return string  \n",
        "    return (str1.join(s))"
      ],
      "execution_count": null,
      "outputs": []
    },
    {
      "cell_type": "code",
      "metadata": {
        "id": "0BF7Hn09XOH_"
      },
      "source": [
        "df_4[\"newText\"] = df_4[\"Word\"].apply(listToString)"
      ],
      "execution_count": null,
      "outputs": []
    },
    {
      "cell_type": "code",
      "metadata": {
        "colab": {
          "base_uri": "https://localhost:8080/",
          "height": 419
        },
        "id": "7Yg3UdrYYGcr",
        "outputId": "d589e850-0238-4f05-d6c8-0c8c71ecb892"
      },
      "source": [
        "df_4"
      ],
      "execution_count": null,
      "outputs": [
        {
          "output_type": "execute_result",
          "data": {
            "text/html": [
              "<div>\n",
              "<style scoped>\n",
              "    .dataframe tbody tr th:only-of-type {\n",
              "        vertical-align: middle;\n",
              "    }\n",
              "\n",
              "    .dataframe tbody tr th {\n",
              "        vertical-align: top;\n",
              "    }\n",
              "\n",
              "    .dataframe thead th {\n",
              "        text-align: right;\n",
              "    }\n",
              "</style>\n",
              "<table border=\"1\" class=\"dataframe\">\n",
              "  <thead>\n",
              "    <tr style=\"text-align: right;\">\n",
              "      <th></th>\n",
              "      <th>sentence</th>\n",
              "      <th>difficulty</th>\n",
              "      <th>Word</th>\n",
              "      <th>newText</th>\n",
              "    </tr>\n",
              "  </thead>\n",
              "  <tbody>\n",
              "    <tr>\n",
              "      <th>0</th>\n",
              "      <td>est pour quand</td>\n",
              "      <td>A1</td>\n",
              "      <td>[est, pour, quand]</td>\n",
              "      <td>est pour quand</td>\n",
              "    </tr>\n",
              "    <tr>\n",
              "      <th>1</th>\n",
              "      <td>Je pense que est bon</td>\n",
              "      <td>A1</td>\n",
              "      <td>[Je, pense, que, est, bon]</td>\n",
              "      <td>Je pense que est bon</td>\n",
              "    </tr>\n",
              "    <tr>\n",
              "      <th>2</th>\n",
              "      <td>est pas mal</td>\n",
              "      <td>A1</td>\n",
              "      <td>[est, pas, mal]</td>\n",
              "      <td>est pas mal</td>\n",
              "    </tr>\n",
              "    <tr>\n",
              "      <th>3</th>\n",
              "      <td>Qu est ce que vous faites</td>\n",
              "      <td>A1</td>\n",
              "      <td>[Qu, est, ce, que, vous, faites]</td>\n",
              "      <td>Qu est ce que vous faites</td>\n",
              "    </tr>\n",
              "    <tr>\n",
              "      <th>4</th>\n",
              "      <td>est bien</td>\n",
              "      <td>A1</td>\n",
              "      <td>[est, bien]</td>\n",
              "      <td>est bien</td>\n",
              "    </tr>\n",
              "    <tr>\n",
              "      <th>...</th>\n",
              "      <td>...</td>\n",
              "      <td>...</td>\n",
              "      <td>...</td>\n",
              "      <td>...</td>\n",
              "    </tr>\n",
              "    <tr>\n",
              "      <th>4795</th>\n",
              "      <td>Le problème va du garçon de café tentant inint...</td>\n",
              "      <td>C2</td>\n",
              "      <td>[Le, problème, va, du, garçon, de, café, tenta...</td>\n",
              "      <td>Le problème va du garçon de café tentant de co...</td>\n",
              "    </tr>\n",
              "    <tr>\n",
              "      <th>4796</th>\n",
              "      <td>Les lois de programmation mentionnées antépénu...</td>\n",
              "      <td>C2</td>\n",
              "      <td>[Les, lois, de, programmation, mentionnées, an...</td>\n",
              "      <td>Les lois de programmation mentionnées antépénu...</td>\n",
              "    </tr>\n",
              "    <tr>\n",
              "      <th>4797</th>\n",
              "      <td>La conscience malheureuse est donc le mauvais ...</td>\n",
              "      <td>C2</td>\n",
              "      <td>[La, conscience, malheureuse, est, donc, le, m...</td>\n",
              "      <td>La conscience malheureuse est donc le mauvais ...</td>\n",
              "    </tr>\n",
              "    <tr>\n",
              "      <th>4798</th>\n",
              "      <td>Comme Monsieur un informaticien fondateur de l...</td>\n",
              "      <td>C2</td>\n",
              "      <td>[Comme, Monsieur, un, informaticien, fondateur...</td>\n",
              "      <td>Comme Monsieur un informaticien fondateur de l...</td>\n",
              "    </tr>\n",
              "    <tr>\n",
              "      <th>4799</th>\n",
              "      <td>Un passager peut se tenir califourchon derrièr...</td>\n",
              "      <td>C2</td>\n",
              "      <td>[Un, passager, peut, se, tenir, califourchon, ...</td>\n",
              "      <td>Un passager peut se tenir califourchon derrièr...</td>\n",
              "    </tr>\n",
              "  </tbody>\n",
              "</table>\n",
              "<p>4800 rows × 4 columns</p>\n",
              "</div>"
            ],
            "text/plain": [
              "                                               sentence  ...                                            newText\n",
              "0                                        est pour quand  ...                                     est pour quand\n",
              "1                                  Je pense que est bon  ...                               Je pense que est bon\n",
              "2                                           est pas mal  ...                                        est pas mal\n",
              "3                             Qu est ce que vous faites  ...                          Qu est ce que vous faites\n",
              "4                                              est bien  ...                                           est bien\n",
              "...                                                 ...  ...                                                ...\n",
              "4795  Le problème va du garçon de café tentant inint...  ...  Le problème va du garçon de café tentant de co...\n",
              "4796  Les lois de programmation mentionnées antépénu...  ...  Les lois de programmation mentionnées antépénu...\n",
              "4797  La conscience malheureuse est donc le mauvais ...  ...  La conscience malheureuse est donc le mauvais ...\n",
              "4798  Comme Monsieur un informaticien fondateur de l...  ...  Comme Monsieur un informaticien fondateur de l...\n",
              "4799  Un passager peut se tenir califourchon derrièr...  ...  Un passager peut se tenir califourchon derrièr...\n",
              "\n",
              "[4800 rows x 4 columns]"
            ]
          },
          "metadata": {
            "tags": []
          },
          "execution_count": 71
        }
      ]
    },
    {
      "cell_type": "code",
      "metadata": {
        "id": "rLqbN0NbbnPS"
      },
      "source": [
        "del df_4[\"Word\"]"
      ],
      "execution_count": null,
      "outputs": []
    },
    {
      "cell_type": "code",
      "metadata": {
        "colab": {
          "base_uri": "https://localhost:8080/",
          "height": 419
        },
        "id": "kgKNlleudeDF",
        "outputId": "2ac77749-9fb7-4d58-c909-f6d8f4445ee3"
      },
      "source": [
        "df_4"
      ],
      "execution_count": null,
      "outputs": [
        {
          "output_type": "execute_result",
          "data": {
            "text/html": [
              "<div>\n",
              "<style scoped>\n",
              "    .dataframe tbody tr th:only-of-type {\n",
              "        vertical-align: middle;\n",
              "    }\n",
              "\n",
              "    .dataframe tbody tr th {\n",
              "        vertical-align: top;\n",
              "    }\n",
              "\n",
              "    .dataframe thead th {\n",
              "        text-align: right;\n",
              "    }\n",
              "</style>\n",
              "<table border=\"1\" class=\"dataframe\">\n",
              "  <thead>\n",
              "    <tr style=\"text-align: right;\">\n",
              "      <th></th>\n",
              "      <th>sentence</th>\n",
              "      <th>difficulty</th>\n",
              "      <th>newText</th>\n",
              "    </tr>\n",
              "  </thead>\n",
              "  <tbody>\n",
              "    <tr>\n",
              "      <th>0</th>\n",
              "      <td>est pour quand</td>\n",
              "      <td>A1</td>\n",
              "      <td>est pour quand</td>\n",
              "    </tr>\n",
              "    <tr>\n",
              "      <th>1</th>\n",
              "      <td>Je pense que est bon</td>\n",
              "      <td>A1</td>\n",
              "      <td>Je pense que est bon</td>\n",
              "    </tr>\n",
              "    <tr>\n",
              "      <th>2</th>\n",
              "      <td>est pas mal</td>\n",
              "      <td>A1</td>\n",
              "      <td>est pas mal</td>\n",
              "    </tr>\n",
              "    <tr>\n",
              "      <th>3</th>\n",
              "      <td>Qu est ce que vous faites</td>\n",
              "      <td>A1</td>\n",
              "      <td>Qu est ce que vous faites</td>\n",
              "    </tr>\n",
              "    <tr>\n",
              "      <th>4</th>\n",
              "      <td>est bien</td>\n",
              "      <td>A1</td>\n",
              "      <td>est bien</td>\n",
              "    </tr>\n",
              "    <tr>\n",
              "      <th>...</th>\n",
              "      <td>...</td>\n",
              "      <td>...</td>\n",
              "      <td>...</td>\n",
              "    </tr>\n",
              "    <tr>\n",
              "      <th>4795</th>\n",
              "      <td>Le problème va du garçon de café tentant inint...</td>\n",
              "      <td>C2</td>\n",
              "      <td>Le problème va du garçon de café tentant de co...</td>\n",
              "    </tr>\n",
              "    <tr>\n",
              "      <th>4796</th>\n",
              "      <td>Les lois de programmation mentionnées antépénu...</td>\n",
              "      <td>C2</td>\n",
              "      <td>Les lois de programmation mentionnées antépénu...</td>\n",
              "    </tr>\n",
              "    <tr>\n",
              "      <th>4797</th>\n",
              "      <td>La conscience malheureuse est donc le mauvais ...</td>\n",
              "      <td>C2</td>\n",
              "      <td>La conscience malheureuse est donc le mauvais ...</td>\n",
              "    </tr>\n",
              "    <tr>\n",
              "      <th>4798</th>\n",
              "      <td>Comme Monsieur un informaticien fondateur de l...</td>\n",
              "      <td>C2</td>\n",
              "      <td>Comme Monsieur un informaticien fondateur de l...</td>\n",
              "    </tr>\n",
              "    <tr>\n",
              "      <th>4799</th>\n",
              "      <td>Un passager peut se tenir califourchon derrièr...</td>\n",
              "      <td>C2</td>\n",
              "      <td>Un passager peut se tenir califourchon derrièr...</td>\n",
              "    </tr>\n",
              "  </tbody>\n",
              "</table>\n",
              "<p>4800 rows × 3 columns</p>\n",
              "</div>"
            ],
            "text/plain": [
              "                                               sentence  ...                                            newText\n",
              "0                                        est pour quand  ...                                     est pour quand\n",
              "1                                  Je pense que est bon  ...                               Je pense que est bon\n",
              "2                                           est pas mal  ...                                        est pas mal\n",
              "3                             Qu est ce que vous faites  ...                          Qu est ce que vous faites\n",
              "4                                              est bien  ...                                           est bien\n",
              "...                                                 ...  ...                                                ...\n",
              "4795  Le problème va du garçon de café tentant inint...  ...  Le problème va du garçon de café tentant de co...\n",
              "4796  Les lois de programmation mentionnées antépénu...  ...  Les lois de programmation mentionnées antépénu...\n",
              "4797  La conscience malheureuse est donc le mauvais ...  ...  La conscience malheureuse est donc le mauvais ...\n",
              "4798  Comme Monsieur un informaticien fondateur de l...  ...  Comme Monsieur un informaticien fondateur de l...\n",
              "4799  Un passager peut se tenir califourchon derrièr...  ...  Un passager peut se tenir califourchon derrièr...\n",
              "\n",
              "[4800 rows x 3 columns]"
            ]
          },
          "metadata": {
            "tags": []
          },
          "execution_count": 74
        }
      ]
    },
    {
      "cell_type": "code",
      "metadata": {
        "id": "xyft0BQwdevI"
      },
      "source": [
        "del df_4[\"newText\"]"
      ],
      "execution_count": null,
      "outputs": []
    },
    {
      "cell_type": "code",
      "metadata": {
        "id": "YmWTMVo9djuH"
      },
      "source": [
        "new_df_4 = pd.DataFrame(df_4)\n",
        "new_df_4.to_csv('df_4.csv' , index = False)"
      ],
      "execution_count": null,
      "outputs": []
    },
    {
      "cell_type": "code",
      "metadata": {
        "id": "xWNjtOPndrcl"
      },
      "source": [
        ""
      ],
      "execution_count": null,
      "outputs": []
    }
  ]
}